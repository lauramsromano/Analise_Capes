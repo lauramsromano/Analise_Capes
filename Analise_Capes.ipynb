{
 "cells": [
  {
   "cell_type": "code",
   "execution_count": 601,
   "id": "2a752aac",
   "metadata": {},
   "outputs": [],
   "source": [
    "import pandas as pd\n",
    "import seaborn as sns\n",
    "import matplotlib.pyplot as plt"
   ]
  },
  {
   "cell_type": "code",
   "execution_count": 552,
   "id": "0df534ec",
   "metadata": {},
   "outputs": [],
   "source": [
    "#https://www.kaggle.com/datasets/voltdata/capes-bolsas\n",
    "data = pd.read_csv(r\"C:\\Users\\laura\\Downloads\\capes_bolsas.csv\", index_col = 0)"
   ]
  },
  {
   "cell_type": "markdown",
   "id": "0fe19dc8",
   "metadata": {},
   "source": [
    "### Verificação e limpeza de dados:"
   ]
  },
  {
   "cell_type": "code",
   "execution_count": 553,
   "id": "a21c5baa",
   "metadata": {},
   "outputs": [
    {
     "name": "stdout",
     "output_type": "stream",
     "text": [
      "<class 'pandas.core.frame.DataFrame'>\n",
      "Int64Index: 136114 entries, 1 to 136114\n",
      "Data columns (total 28 columns):\n",
      " #   Column                               Non-Null Count   Dtype  \n",
      "---  ------                               --------------   -----  \n",
      " 0   Ano                                  136114 non-null  int64  \n",
      " 1   UF                                   136114 non-null  object \n",
      " 2   Município                            136114 non-null  object \n",
      " 3   Região                               136114 non-null  object \n",
      " 4   Código Programa                      130415 non-null  object \n",
      " 5   Programa Fomento                     136114 non-null  object \n",
      " 6   IES                                  136113 non-null  object \n",
      " 7   Status Jurídico                      136114 non-null  object \n",
      " 8   Programa                             130415 non-null  object \n",
      " 9   Área Avaliação                       136114 non-null  object \n",
      " 10  Área Conhecimento                    136114 non-null  object \n",
      " 11  Grande Área                          136114 non-null  object \n",
      " 12  Codigo IES                           10664 non-null   float64\n",
      " 13  Coordenador Geral IsF                60923 non-null   float64\n",
      " 14  Coordenador Pedagógico IsF           60923 non-null   float64\n",
      " 15  DOUTORADO PLENO                      136114 non-null  int64  \n",
      " 16  Iniciação Científica                 60923 non-null   float64\n",
      " 17  JOVENS TALENTOS - A                  10664 non-null   float64\n",
      " 18  JOVENS TALENTOS - B                  10664 non-null   float64\n",
      " 19  MESTRADO                             136114 non-null  int64  \n",
      " 20  MESTRADO PROFISSIONAL                77088 non-null   float64\n",
      " 21  PESQUISADOR VISITANTE ESPECIAL       10664 non-null   float64\n",
      " 22  PROF VISITANTE NACIONAL SÊNIOR       84540 non-null   float64\n",
      " 23  PROFESSOR VISITANTE EXTERIOR PLENO   10664 non-null   float64\n",
      " 24  PROFESSOR VISITANTE EXTERIOR SENIOR  10664 non-null   float64\n",
      " 25  Professor IsF                        60923 non-null   float64\n",
      " 26  PÓS-DOUTORADO                        126713 non-null  float64\n",
      " 27  Total Linha                          136114 non-null  int64  \n",
      "dtypes: float64(13), int64(4), object(11)\n",
      "memory usage: 30.1+ MB\n"
     ]
    }
   ],
   "source": [
    "data.info() #verificando informações gerais do dataframe"
   ]
  },
  {
   "cell_type": "code",
   "execution_count": 554,
   "id": "fc0a5d7c",
   "metadata": {},
   "outputs": [
    {
     "data": {
      "text/plain": [
       "Ano                                         0\n",
       "UF                                          0\n",
       "Município                                   0\n",
       "Região                                      0\n",
       "Código Programa                          5699\n",
       "Programa Fomento                            0\n",
       "IES                                         1\n",
       "Status Jurídico                             0\n",
       "Programa                                 5699\n",
       "Área Avaliação                              0\n",
       "Área Conhecimento                           0\n",
       "Grande Área                                 0\n",
       "Codigo IES                             125450\n",
       "Coordenador Geral IsF                   75191\n",
       "Coordenador Pedagógico IsF              75191\n",
       "DOUTORADO PLENO                             0\n",
       "Iniciação Científica                    75191\n",
       "JOVENS TALENTOS - A                    125450\n",
       "JOVENS TALENTOS - B                    125450\n",
       "MESTRADO                                    0\n",
       "MESTRADO PROFISSIONAL                   59026\n",
       "PESQUISADOR VISITANTE ESPECIAL         125450\n",
       "PROF VISITANTE NACIONAL SÊNIOR          51574\n",
       "PROFESSOR VISITANTE EXTERIOR PLENO     125450\n",
       "PROFESSOR VISITANTE EXTERIOR SENIOR    125450\n",
       "Professor IsF                           75191\n",
       "PÓS-DOUTORADO                            9401\n",
       "Total Linha                                 0\n",
       "dtype: int64"
      ]
     },
     "execution_count": 554,
     "metadata": {},
     "output_type": "execute_result"
    }
   ],
   "source": [
    "data.isnull().sum() #verificandos colunas com informações nulas:"
   ]
  },
  {
   "cell_type": "code",
   "execution_count": 555,
   "id": "9bf13210",
   "metadata": {},
   "outputs": [
    {
     "data": {
      "text/plain": [
       "(136114, 28)"
      ]
     },
     "execution_count": 555,
     "metadata": {},
     "output_type": "execute_result"
    }
   ],
   "source": [
    "data.shape #verificando quantidade de linhas e colunas no dataframe"
   ]
  },
  {
   "cell_type": "code",
   "execution_count": 556,
   "id": "f6baaeaa",
   "metadata": {},
   "outputs": [
    {
     "name": "stdout",
     "output_type": "stream",
     "text": [
      "<class 'pandas.core.frame.DataFrame'>\n",
      "Int64Index: 9829 entries, 5 to 10664\n",
      "Data columns (total 28 columns):\n",
      " #   Column                               Non-Null Count  Dtype  \n",
      "---  ------                               --------------  -----  \n",
      " 0   Ano                                  9829 non-null   int64  \n",
      " 1   UF                                   9829 non-null   object \n",
      " 2   Município                            9829 non-null   object \n",
      " 3   Região                               9829 non-null   object \n",
      " 4   Código Programa                      9829 non-null   object \n",
      " 5   Programa Fomento                     9829 non-null   object \n",
      " 6   IES                                  9829 non-null   object \n",
      " 7   Status Jurídico                      9829 non-null   object \n",
      " 8   Programa                             9829 non-null   object \n",
      " 9   Área Avaliação                       9829 non-null   object \n",
      " 10  Área Conhecimento                    9829 non-null   object \n",
      " 11  Grande Área                          9829 non-null   object \n",
      " 12  Codigo IES                           9829 non-null   float64\n",
      " 13  Coordenador Geral IsF                9829 non-null   float64\n",
      " 14  Coordenador Pedagógico IsF           9829 non-null   float64\n",
      " 15  DOUTORADO PLENO                      9829 non-null   int64  \n",
      " 16  Iniciação Científica                 9829 non-null   float64\n",
      " 17  JOVENS TALENTOS - A                  9829 non-null   float64\n",
      " 18  JOVENS TALENTOS - B                  9829 non-null   float64\n",
      " 19  MESTRADO                             9829 non-null   int64  \n",
      " 20  MESTRADO PROFISSIONAL                9829 non-null   float64\n",
      " 21  PESQUISADOR VISITANTE ESPECIAL       9829 non-null   float64\n",
      " 22  PROF VISITANTE NACIONAL SÊNIOR       9829 non-null   float64\n",
      " 23  PROFESSOR VISITANTE EXTERIOR PLENO   9829 non-null   float64\n",
      " 24  PROFESSOR VISITANTE EXTERIOR SENIOR  9829 non-null   float64\n",
      " 25  Professor IsF                        9829 non-null   float64\n",
      " 26  PÓS-DOUTORADO                        9829 non-null   float64\n",
      " 27  Total Linha                          9829 non-null   int64  \n",
      "dtypes: float64(13), int64(4), object(11)\n",
      "memory usage: 2.2+ MB\n"
     ]
    }
   ],
   "source": [
    "data.dropna(inplace=True) #removendos todas as informações nulas do dataframe (há outras tratativas que podem ser feitas, mas para fim didáticos, iremos remover info nulas)\n",
    "data.info()"
   ]
  },
  {
   "cell_type": "code",
   "execution_count": 557,
   "id": "db6dcd5e",
   "metadata": {},
   "outputs": [
    {
     "data": {
      "text/html": [
       "<div>\n",
       "<style scoped>\n",
       "    .dataframe tbody tr th:only-of-type {\n",
       "        vertical-align: middle;\n",
       "    }\n",
       "\n",
       "    .dataframe tbody tr th {\n",
       "        vertical-align: top;\n",
       "    }\n",
       "\n",
       "    .dataframe thead th {\n",
       "        text-align: right;\n",
       "    }\n",
       "</style>\n",
       "<table border=\"1\" class=\"dataframe\">\n",
       "  <thead>\n",
       "    <tr style=\"text-align: right;\">\n",
       "      <th></th>\n",
       "      <th>Ano</th>\n",
       "      <th>UF</th>\n",
       "      <th>Município</th>\n",
       "      <th>Região</th>\n",
       "      <th>Código Programa</th>\n",
       "      <th>Programa Fomento</th>\n",
       "      <th>IES</th>\n",
       "      <th>Status Jurídico</th>\n",
       "      <th>Programa</th>\n",
       "      <th>Área Conhecimento</th>\n",
       "      <th>Grande Área</th>\n",
       "      <th>DOUTORADO PLENO</th>\n",
       "      <th>Iniciação Científica</th>\n",
       "      <th>MESTRADO</th>\n",
       "      <th>MESTRADO PROFISSIONAL</th>\n",
       "      <th>PÓS-DOUTORADO</th>\n",
       "      <th>Total Linha</th>\n",
       "    </tr>\n",
       "  </thead>\n",
       "  <tbody>\n",
       "    <tr>\n",
       "      <th>5</th>\n",
       "      <td>2018</td>\n",
       "      <td>AC</td>\n",
       "      <td>RIO BRANCO</td>\n",
       "      <td>NORTE</td>\n",
       "      <td>11001011001P8</td>\n",
       "      <td>DS</td>\n",
       "      <td>UFAC</td>\n",
       "      <td>Federal</td>\n",
       "      <td>ECOLOGIA E MANEJO DE RECURSOS NATURAIS</td>\n",
       "      <td>ECOLOGIA</td>\n",
       "      <td>CIÊNCIAS BIOLÓGICAS</td>\n",
       "      <td>0</td>\n",
       "      <td>0.0</td>\n",
       "      <td>8</td>\n",
       "      <td>0.0</td>\n",
       "      <td>0.0</td>\n",
       "      <td>8</td>\n",
       "    </tr>\n",
       "    <tr>\n",
       "      <th>6</th>\n",
       "      <td>2018</td>\n",
       "      <td>AC</td>\n",
       "      <td>RIO BRANCO</td>\n",
       "      <td>NORTE</td>\n",
       "      <td>11001011001P8</td>\n",
       "      <td>PNPD</td>\n",
       "      <td>UFAC</td>\n",
       "      <td>Federal</td>\n",
       "      <td>ECOLOGIA E MANEJO DE RECURSOS NATURAIS</td>\n",
       "      <td>ECOLOGIA</td>\n",
       "      <td>CIÊNCIAS BIOLÓGICAS</td>\n",
       "      <td>0</td>\n",
       "      <td>0.0</td>\n",
       "      <td>0</td>\n",
       "      <td>0.0</td>\n",
       "      <td>1.0</td>\n",
       "      <td>1</td>\n",
       "    </tr>\n",
       "    <tr>\n",
       "      <th>7</th>\n",
       "      <td>2018</td>\n",
       "      <td>AC</td>\n",
       "      <td>RIO BRANCO</td>\n",
       "      <td>NORTE</td>\n",
       "      <td>11001011003P0</td>\n",
       "      <td>DS</td>\n",
       "      <td>UFAC</td>\n",
       "      <td>Federal</td>\n",
       "      <td>LETRAS- LINGUAGEM E IDENTIDADE</td>\n",
       "      <td>LETRAS</td>\n",
       "      <td>LINGÜÍSTICA, LETRAS E ARTES</td>\n",
       "      <td>0</td>\n",
       "      <td>0.0</td>\n",
       "      <td>17</td>\n",
       "      <td>0.0</td>\n",
       "      <td>0.0</td>\n",
       "      <td>17</td>\n",
       "    </tr>\n",
       "    <tr>\n",
       "      <th>8</th>\n",
       "      <td>2018</td>\n",
       "      <td>AC</td>\n",
       "      <td>RIO BRANCO</td>\n",
       "      <td>NORTE</td>\n",
       "      <td>11001011003P0</td>\n",
       "      <td>PNPD</td>\n",
       "      <td>UFAC</td>\n",
       "      <td>Federal</td>\n",
       "      <td>LETRAS- LINGUAGEM E IDENTIDADE</td>\n",
       "      <td>LETRAS</td>\n",
       "      <td>LINGÜÍSTICA, LETRAS E ARTES</td>\n",
       "      <td>0</td>\n",
       "      <td>0.0</td>\n",
       "      <td>0</td>\n",
       "      <td>0.0</td>\n",
       "      <td>1.0</td>\n",
       "      <td>1</td>\n",
       "    </tr>\n",
       "    <tr>\n",
       "      <th>9</th>\n",
       "      <td>2018</td>\n",
       "      <td>AC</td>\n",
       "      <td>RIO BRANCO</td>\n",
       "      <td>NORTE</td>\n",
       "      <td>11001011004P7</td>\n",
       "      <td>DS</td>\n",
       "      <td>UFAC</td>\n",
       "      <td>Federal</td>\n",
       "      <td>PRODUÇÃO VEGETAL</td>\n",
       "      <td>AGRONOMIA</td>\n",
       "      <td>CIÊNCIAS AGRÁRIAS</td>\n",
       "      <td>18</td>\n",
       "      <td>0.0</td>\n",
       "      <td>9</td>\n",
       "      <td>0.0</td>\n",
       "      <td>0.0</td>\n",
       "      <td>27</td>\n",
       "    </tr>\n",
       "  </tbody>\n",
       "</table>\n",
       "</div>"
      ],
      "text/plain": [
       "    Ano  UF   Município Região Código Programa Programa Fomento   IES  \\\n",
       "5  2018  AC  RIO BRANCO  NORTE   11001011001P8               DS  UFAC   \n",
       "6  2018  AC  RIO BRANCO  NORTE   11001011001P8             PNPD  UFAC   \n",
       "7  2018  AC  RIO BRANCO  NORTE   11001011003P0               DS  UFAC   \n",
       "8  2018  AC  RIO BRANCO  NORTE   11001011003P0             PNPD  UFAC   \n",
       "9  2018  AC  RIO BRANCO  NORTE   11001011004P7               DS  UFAC   \n",
       "\n",
       "  Status Jurídico                                Programa Área Conhecimento  \\\n",
       "5         Federal  ECOLOGIA E MANEJO DE RECURSOS NATURAIS          ECOLOGIA   \n",
       "6         Federal  ECOLOGIA E MANEJO DE RECURSOS NATURAIS          ECOLOGIA   \n",
       "7         Federal          LETRAS- LINGUAGEM E IDENTIDADE            LETRAS   \n",
       "8         Federal          LETRAS- LINGUAGEM E IDENTIDADE            LETRAS   \n",
       "9         Federal                        PRODUÇÃO VEGETAL         AGRONOMIA   \n",
       "\n",
       "                   Grande Área  DOUTORADO PLENO  Iniciação Científica  \\\n",
       "5          CIÊNCIAS BIOLÓGICAS                0                   0.0   \n",
       "6          CIÊNCIAS BIOLÓGICAS                0                   0.0   \n",
       "7  LINGÜÍSTICA, LETRAS E ARTES                0                   0.0   \n",
       "8  LINGÜÍSTICA, LETRAS E ARTES                0                   0.0   \n",
       "9            CIÊNCIAS AGRÁRIAS               18                   0.0   \n",
       "\n",
       "   MESTRADO  MESTRADO PROFISSIONAL  PÓS-DOUTORADO  Total Linha  \n",
       "5         8                    0.0            0.0            8  \n",
       "6         0                    0.0            1.0            1  \n",
       "7        17                    0.0            0.0           17  \n",
       "8         0                    0.0            1.0            1  \n",
       "9         9                    0.0            0.0           27  "
      ]
     },
     "execution_count": 557,
     "metadata": {},
     "output_type": "execute_result"
    }
   ],
   "source": [
    "data.drop(['PROFESSOR VISITANTE EXTERIOR PLENO', 'PROFESSOR VISITANTE EXTERIOR SENIOR', 'PROF VISITANTE NACIONAL SÊNIOR','PESQUISADOR VISITANTE ESPECIAL','JOVENS TALENTOS - A', 'JOVENS TALENTOS - B','Coordenador Pedagógico IsF','Coordenador Geral IsF', 'Área Avaliação', 'Professor IsF', 'Codigo IES'], axis=1, inplace=True) #removendos as colunas que não iremos analisar\n",
    "# data.columns = data.columns.str.replace(\" \", \"_\") #substiruir os espaços vazios por \"_\"\n",
    "data.head()"
   ]
  },
  {
   "cell_type": "markdown",
   "id": "36684ed3",
   "metadata": {},
   "source": [
    "### Analisando os dados:"
   ]
  },
  {
   "cell_type": "markdown",
   "id": "4698d4e0",
   "metadata": {},
   "source": [
    "##### 1) Analisando as bolsas concedidas:"
   ]
  },
  {
   "cell_type": "code",
   "execution_count": 580,
   "id": "da2b9a43",
   "metadata": {},
   "outputs": [
    {
     "data": {
      "text/html": [
       "<div>\n",
       "<style scoped>\n",
       "    .dataframe tbody tr th:only-of-type {\n",
       "        vertical-align: middle;\n",
       "    }\n",
       "\n",
       "    .dataframe tbody tr th {\n",
       "        vertical-align: top;\n",
       "    }\n",
       "\n",
       "    .dataframe thead th {\n",
       "        text-align: right;\n",
       "    }\n",
       "</style>\n",
       "<table border=\"1\" class=\"dataframe\">\n",
       "  <thead>\n",
       "    <tr style=\"text-align: right;\">\n",
       "      <th></th>\n",
       "      <th>Total Linha</th>\n",
       "    </tr>\n",
       "    <tr>\n",
       "      <th>IES</th>\n",
       "      <th></th>\n",
       "    </tr>\n",
       "  </thead>\n",
       "  <tbody>\n",
       "    <tr>\n",
       "      <th>USP</th>\n",
       "      <td>5169</td>\n",
       "    </tr>\n",
       "    <tr>\n",
       "      <th>UFRJ</th>\n",
       "      <td>3479</td>\n",
       "    </tr>\n",
       "    <tr>\n",
       "      <th>UFRGS</th>\n",
       "      <td>3330</td>\n",
       "    </tr>\n",
       "    <tr>\n",
       "      <th>UFMG</th>\n",
       "      <td>3085</td>\n",
       "    </tr>\n",
       "    <tr>\n",
       "      <th>UFSC</th>\n",
       "      <td>2838</td>\n",
       "    </tr>\n",
       "  </tbody>\n",
       "</table>\n",
       "</div>"
      ],
      "text/plain": [
       "       Total Linha\n",
       "IES               \n",
       "USP           5169\n",
       "UFRJ          3479\n",
       "UFRGS         3330\n",
       "UFMG          3085\n",
       "UFSC          2838"
      ]
     },
     "execution_count": 580,
     "metadata": {},
     "output_type": "execute_result"
    }
   ],
   "source": [
    "#Por IES:\n",
    "\n",
    "dados_IES = data.loc(axis=1)[['IES', 'Total Linha']] #criado um df apenas com as colunas 'Grande Área' e 'Iniciação Científica'\n",
    "dados_IES_1 = dados_IES.groupby('IES').sum('Total Linha') #agrupando as informações por Área de Conhecimento \n",
    "dados_IES_1.sort_values(by='Total Linha', ascending=False, inplace=True) #organizando por ordem decrescente em Total Linha\n",
    "dados_IES_1.head()"
   ]
  },
  {
   "cell_type": "code",
   "execution_count": 574,
   "id": "2a2879c1",
   "metadata": {},
   "outputs": [
    {
     "data": {
      "text/plain": [
       "Text(0.5, 0, 'Qnt de bolsas')"
      ]
     },
     "execution_count": 574,
     "metadata": {},
     "output_type": "execute_result"
    },
    {
     "data": {
      "image/png": "[encoded data removed]",
      "text/plain": [
       "<Figure size 432x288 with 1 Axes>"
      ]
     },
     "metadata": {
      "needs_background": "light"
     },
     "output_type": "display_data"
    }
   ],
   "source": [
    "grafico_dados_IES = dados_IES_1.head().plot(kind=\"barh\")\n",
    "grafico_dados_IES.set_title('Qnt de bolsas x IES')\n",
    "grafico_dados_IES.set_ylabel('IES')\n",
    "grafico_dados_IES.set_xlabel('Qnt de bolsas')"
   ]
  },
  {
   "cell_type": "code",
   "execution_count": 581,
   "id": "a30df020",
   "metadata": {},
   "outputs": [
    {
     "data": {
      "text/html": [
       "<div>\n",
       "<style scoped>\n",
       "    .dataframe tbody tr th:only-of-type {\n",
       "        vertical-align: middle;\n",
       "    }\n",
       "\n",
       "    .dataframe tbody tr th {\n",
       "        vertical-align: top;\n",
       "    }\n",
       "\n",
       "    .dataframe thead th {\n",
       "        text-align: right;\n",
       "    }\n",
       "</style>\n",
       "<table border=\"1\" class=\"dataframe\">\n",
       "  <thead>\n",
       "    <tr style=\"text-align: right;\">\n",
       "      <th></th>\n",
       "      <th>Total Linha</th>\n",
       "    </tr>\n",
       "    <tr>\n",
       "      <th>Grande Área</th>\n",
       "      <th></th>\n",
       "    </tr>\n",
       "  </thead>\n",
       "  <tbody>\n",
       "    <tr>\n",
       "      <th>CIÊNCIAS HUMANAS</th>\n",
       "      <td>13772</td>\n",
       "    </tr>\n",
       "    <tr>\n",
       "      <th>CIÊNCIAS DA SAÚDE</th>\n",
       "      <td>13430</td>\n",
       "    </tr>\n",
       "    <tr>\n",
       "      <th>CIÊNCIAS AGRÁRIAS</th>\n",
       "      <td>13079</td>\n",
       "    </tr>\n",
       "    <tr>\n",
       "      <th>CIÊNCIAS EXATAS E DA TERRA</th>\n",
       "      <td>10640</td>\n",
       "    </tr>\n",
       "    <tr>\n",
       "      <th>ENGENHARIAS</th>\n",
       "      <td>10327</td>\n",
       "    </tr>\n",
       "  </tbody>\n",
       "</table>\n",
       "</div>"
      ],
      "text/plain": [
       "                            Total Linha\n",
       "Grande Área                            \n",
       "CIÊNCIAS HUMANAS                  13772\n",
       "CIÊNCIAS DA SAÚDE                 13430\n",
       "CIÊNCIAS AGRÁRIAS                 13079\n",
       "CIÊNCIAS EXATAS E DA TERRA        10640\n",
       "ENGENHARIAS                       10327"
      ]
     },
     "execution_count": 581,
     "metadata": {},
     "output_type": "execute_result"
    }
   ],
   "source": [
    "#Por Grande Área:\n",
    "\n",
    "dados_Area = data.loc(axis=1)[['Grande Área', 'Total Linha']] #filtrando pelas colunas desejadas\n",
    "dados_Area_1 = dados_Area.groupby('Grande Área').sum('Total Linha') #agrupando por Grande Área e somando por Total Linha\n",
    "dados_Area_1.sort_values(by='Total Linha', ascending=False, inplace=True) #organizando por ordem decrescente em Total Linha\n",
    "dados_Area_1.head()"
   ]
  },
  {
   "cell_type": "code",
   "execution_count": 576,
   "id": "afb6bef5",
   "metadata": {},
   "outputs": [
    {
     "data": {
      "text/plain": [
       "Text(0.5, 0, 'Qnt de bolsas')"
      ]
     },
     "execution_count": 576,
     "metadata": {},
     "output_type": "execute_result"
    },
    {
     "data": {
      "image/png": "[encoded data removed]",
      "text/plain": [
       "<Figure size 432x288 with 1 Axes>"
      ]
     },
     "metadata": {
      "needs_background": "light"
     },
     "output_type": "display_data"
    }
   ],
   "source": [
    "grafico_dados_area = dados_Area_1.head().plot(kind=\"barh\")\n",
    "grafico_dados_area.set_title('Qnt de bolsas x Grande Área')\n",
    "grafico_dados_area.set_ylabel('Grande Área')\n",
    "grafico_dados_area.set_xlabel('Qnt de bolsas')"
   ]
  },
  {
   "cell_type": "code",
   "execution_count": 577,
   "id": "6cf6adca",
   "metadata": {},
   "outputs": [
    {
     "data": {
      "text/html": [
       "<div>\n",
       "<style scoped>\n",
       "    .dataframe tbody tr th:only-of-type {\n",
       "        vertical-align: middle;\n",
       "    }\n",
       "\n",
       "    .dataframe tbody tr th {\n",
       "        vertical-align: top;\n",
       "    }\n",
       "\n",
       "    .dataframe thead th {\n",
       "        text-align: right;\n",
       "    }\n",
       "</style>\n",
       "<table border=\"1\" class=\"dataframe\">\n",
       "  <thead>\n",
       "    <tr style=\"text-align: right;\">\n",
       "      <th></th>\n",
       "      <th>Total Linha</th>\n",
       "    </tr>\n",
       "    <tr>\n",
       "      <th>Área Conhecimento</th>\n",
       "      <th></th>\n",
       "    </tr>\n",
       "  </thead>\n",
       "  <tbody>\n",
       "    <tr>\n",
       "      <th>AGRONOMIA</th>\n",
       "      <td>5652</td>\n",
       "    </tr>\n",
       "    <tr>\n",
       "      <th>MEDICINA</th>\n",
       "      <td>5228</td>\n",
       "    </tr>\n",
       "    <tr>\n",
       "      <th>INTERDISCIPLINAR</th>\n",
       "      <td>4091</td>\n",
       "    </tr>\n",
       "    <tr>\n",
       "      <th>EDUCAÇÃO</th>\n",
       "      <td>3295</td>\n",
       "    </tr>\n",
       "    <tr>\n",
       "      <th>QUÍMICA</th>\n",
       "      <td>3113</td>\n",
       "    </tr>\n",
       "  </tbody>\n",
       "</table>\n",
       "</div>"
      ],
      "text/plain": [
       "                   Total Linha\n",
       "Área Conhecimento             \n",
       "AGRONOMIA                 5652\n",
       "MEDICINA                  5228\n",
       "INTERDISCIPLINAR          4091\n",
       "EDUCAÇÃO                  3295\n",
       "QUÍMICA                   3113"
      ]
     },
     "execution_count": 577,
     "metadata": {},
     "output_type": "execute_result"
    }
   ],
   "source": [
    "#Por Área de Conhecimento:\n",
    "\n",
    "dados_area_conhecimento = data.loc(axis=1)[['Área Conhecimento', 'Total Linha']]  #filtrando pelas colunas desejadas\n",
    "dados_area_conhecimento_1 = dados_area_conhecimento.groupby('Área Conhecimento').sum('Total Linha') #agrupando por Área Conhecimento e somando por Total Linha\n",
    "dados_area_conhecimento_1.sort_values(by='Total Linha', ascending=False, inplace=True) #organizando por ordem decrescente em Total Linha\n",
    "dados_area_conhecimento_1.head()"
   ]
  },
  {
   "cell_type": "markdown",
   "id": "707375ee",
   "metadata": {},
   "source": [
    "#### 2) Analisando bolsas de IC concedidas:"
   ]
  },
  {
   "cell_type": "code",
   "execution_count": 599,
   "id": "7c1b676a",
   "metadata": {},
   "outputs": [
    {
     "data": {
      "text/html": [
       "<div>\n",
       "<style scoped>\n",
       "    .dataframe tbody tr th:only-of-type {\n",
       "        vertical-align: middle;\n",
       "    }\n",
       "\n",
       "    .dataframe tbody tr th {\n",
       "        vertical-align: top;\n",
       "    }\n",
       "\n",
       "    .dataframe thead th {\n",
       "        text-align: right;\n",
       "    }\n",
       "</style>\n",
       "<table border=\"1\" class=\"dataframe\">\n",
       "  <thead>\n",
       "    <tr style=\"text-align: right;\">\n",
       "      <th></th>\n",
       "      <th>Iniciação Científica</th>\n",
       "    </tr>\n",
       "    <tr>\n",
       "      <th>Grande Área</th>\n",
       "      <th></th>\n",
       "    </tr>\n",
       "  </thead>\n",
       "  <tbody>\n",
       "    <tr>\n",
       "      <th>CIÊNCIAS BIOLÓGICAS</th>\n",
       "      <td>166.0</td>\n",
       "    </tr>\n",
       "    <tr>\n",
       "      <th>CIÊNCIAS EXATAS E DA TERRA</th>\n",
       "      <td>108.0</td>\n",
       "    </tr>\n",
       "    <tr>\n",
       "      <th>CIÊNCIAS HUMANAS</th>\n",
       "      <td>82.0</td>\n",
       "    </tr>\n",
       "    <tr>\n",
       "      <th>CIÊNCIAS AGRÁRIAS</th>\n",
       "      <td>66.0</td>\n",
       "    </tr>\n",
       "    <tr>\n",
       "      <th>ENGENHARIAS</th>\n",
       "      <td>54.0</td>\n",
       "    </tr>\n",
       "  </tbody>\n",
       "</table>\n",
       "</div>"
      ],
      "text/plain": [
       "                            Iniciação Científica\n",
       "Grande Área                                     \n",
       "CIÊNCIAS BIOLÓGICAS                        166.0\n",
       "CIÊNCIAS EXATAS E DA TERRA                 108.0\n",
       "CIÊNCIAS HUMANAS                            82.0\n",
       "CIÊNCIAS AGRÁRIAS                           66.0\n",
       "ENGENHARIAS                                 54.0"
      ]
     },
     "execution_count": 599,
     "metadata": {},
     "output_type": "execute_result"
    }
   ],
   "source": [
    "#Por Grande Área:\n",
    "\n",
    "data_area_IC = data.loc(axis=1)[['Grande Área', 'Iniciação Científica']] #filtrando pelas colunas desejadas\n",
    "data_area_IC_1 = data_area_IC.groupby('Grande Área').sum('Iniciação Científica') #agrupando por Grande Área e somando por Inciciação Científica\n",
    "data_area_IC_1.sort_values(by='Iniciação Científica', ascending=False, inplace=True) #organizando por ordem decrescente em Iniciação Científica\n",
    "data_area_IC_1.head() "
   ]
  },
  {
   "cell_type": "code",
   "execution_count": 600,
   "id": "f7e23d27",
   "metadata": {},
   "outputs": [
    {
     "data": {
      "text/plain": [
       "Text(0.5, 0, 'Qnt de bolsas de IC')"
      ]
     },
     "execution_count": 600,
     "metadata": {},
     "output_type": "execute_result"
    },
    {
     "data": {
      "image/png": "[encoded data removed]",
      "text/plain": [
       "<Figure size 432x288 with 1 Axes>"
      ]
     },
     "metadata": {
      "needs_background": "light"
     },
     "output_type": "display_data"
    }
   ],
   "source": [
    "grafico_data_area_IC = data_area_IC_1.head().groupby('Grande Área').sum('Iniciação Científica').plot(kind='barh')\n",
    "grafico_data_area_IC.set_title('Qnt de bolsas de IC x Grande Área')\n",
    "grafico_data_area_IC.set_ylabel('Grande Área')\n",
    "grafico_data_area_IC.set_xlabel('Qnt de bolsas de IC')"
   ]
  },
  {
   "cell_type": "code",
   "execution_count": 591,
   "id": "9ab98ec5",
   "metadata": {},
   "outputs": [
    {
     "data": {
      "text/html": [
       "<div>\n",
       "<style scoped>\n",
       "    .dataframe tbody tr th:only-of-type {\n",
       "        vertical-align: middle;\n",
       "    }\n",
       "\n",
       "    .dataframe tbody tr th {\n",
       "        vertical-align: top;\n",
       "    }\n",
       "\n",
       "    .dataframe thead th {\n",
       "        text-align: right;\n",
       "    }\n",
       "</style>\n",
       "<table border=\"1\" class=\"dataframe\">\n",
       "  <thead>\n",
       "    <tr style=\"text-align: right;\">\n",
       "      <th></th>\n",
       "      <th>Iniciação Científica</th>\n",
       "    </tr>\n",
       "    <tr>\n",
       "      <th>Área Conhecimento</th>\n",
       "      <th></th>\n",
       "    </tr>\n",
       "  </thead>\n",
       "  <tbody>\n",
       "    <tr>\n",
       "      <th>ECOLOGIA</th>\n",
       "      <td>48.0</td>\n",
       "    </tr>\n",
       "    <tr>\n",
       "      <th>PARASITOLOGIA</th>\n",
       "      <td>38.0</td>\n",
       "    </tr>\n",
       "    <tr>\n",
       "      <th>FÍSICA</th>\n",
       "      <td>36.0</td>\n",
       "    </tr>\n",
       "    <tr>\n",
       "      <th>AGRONOMIA</th>\n",
       "      <td>32.0</td>\n",
       "    </tr>\n",
       "    <tr>\n",
       "      <th>GEOCIÊNCIAS</th>\n",
       "      <td>26.0</td>\n",
       "    </tr>\n",
       "  </tbody>\n",
       "</table>\n",
       "</div>"
      ],
      "text/plain": [
       "                   Iniciação Científica\n",
       "Área Conhecimento                      \n",
       "ECOLOGIA                           48.0\n",
       "PARASITOLOGIA                      38.0\n",
       "FÍSICA                             36.0\n",
       "AGRONOMIA                          32.0\n",
       "GEOCIÊNCIAS                        26.0"
      ]
     },
     "execution_count": 591,
     "metadata": {},
     "output_type": "execute_result"
    }
   ],
   "source": [
    "#Por Área de Conhecimento:\n",
    "data_area_esp_IC = data.loc(axis=1)[['Área Conhecimento', 'Iniciação Científica']] #filtrando pelas colunas desejadas\n",
    "data_area_esp_IC_1 = data_area_esp_IC.groupby('Área Conhecimento').sum('Iniciação Científica') #agrupando por Área Conhecimento e somando por Inciciação Científica\n",
    "data_area_esp_IC_1.sort_values(by='Iniciação Científica', ascending=False, inplace=True) #organizando por ordem decrescente em Iniciação Científica\n",
    "data_area_esp_IC_1.head()"
   ]
  },
  {
   "cell_type": "code",
   "execution_count": 593,
   "id": "a4300406",
   "metadata": {},
   "outputs": [
    {
     "data": {
      "text/plain": [
       "Text(0.5, 0, 'Qnt de bolsas de IC')"
      ]
     },
     "execution_count": 593,
     "metadata": {},
     "output_type": "execute_result"
    },
    {
     "data": {
      "image/png": "[encoded data removed]",
      "text/plain": [
       "<Figure size 432x288 with 1 Axes>"
      ]
     },
     "metadata": {
      "needs_background": "light"
     },
     "output_type": "display_data"
    }
   ],
   "source": [
    "grafic_area_esp_IC = data_area_esp_IC_1.head().plot(kind='barh')\n",
    "grafic_area_esp_IC.set_title('Qnt de bolsas de IC x Área de Conhecimento')\n",
    "grafic_area_esp_IC.set_ylabel('Área de Conhecimento')\n",
    "grafic_area_esp_IC.set_xlabel('Qnt de bolsas de IC')"
   ]
  },
  {
   "cell_type": "code",
   "execution_count": 607,
   "id": "9a461065",
   "metadata": {},
   "outputs": [
    {
     "data": {
      "text/html": [
       "<div>\n",
       "<style scoped>\n",
       "    .dataframe tbody tr th:only-of-type {\n",
       "        vertical-align: middle;\n",
       "    }\n",
       "\n",
       "    .dataframe tbody tr th {\n",
       "        vertical-align: top;\n",
       "    }\n",
       "\n",
       "    .dataframe thead th {\n",
       "        text-align: right;\n",
       "    }\n",
       "</style>\n",
       "<table border=\"1\" class=\"dataframe\">\n",
       "  <thead>\n",
       "    <tr style=\"text-align: right;\">\n",
       "      <th></th>\n",
       "      <th>DOUTORADO PLENO</th>\n",
       "      <th>Iniciação Científica</th>\n",
       "      <th>MESTRADO</th>\n",
       "      <th>MESTRADO PROFISSIONAL</th>\n",
       "      <th>PÓS-DOUTORADO</th>\n",
       "      <th>Total Linha</th>\n",
       "    </tr>\n",
       "  </thead>\n",
       "  <tbody>\n",
       "    <tr>\n",
       "      <th>DOUTORADO PLENO</th>\n",
       "      <td>1.000000</td>\n",
       "      <td>-0.036757</td>\n",
       "      <td>0.696313</td>\n",
       "      <td>-0.007404</td>\n",
       "      <td>-0.239698</td>\n",
       "      <td>0.937057</td>\n",
       "    </tr>\n",
       "    <tr>\n",
       "      <th>Iniciação Científica</th>\n",
       "      <td>-0.036757</td>\n",
       "      <td>1.000000</td>\n",
       "      <td>-0.053392</td>\n",
       "      <td>-0.001685</td>\n",
       "      <td>0.021946</td>\n",
       "      <td>-0.007002</td>\n",
       "    </tr>\n",
       "    <tr>\n",
       "      <th>MESTRADO</th>\n",
       "      <td>0.696313</td>\n",
       "      <td>-0.053392</td>\n",
       "      <td>1.000000</td>\n",
       "      <td>-0.009390</td>\n",
       "      <td>-0.307744</td>\n",
       "      <td>0.894522</td>\n",
       "    </tr>\n",
       "    <tr>\n",
       "      <th>MESTRADO PROFISSIONAL</th>\n",
       "      <td>-0.007404</td>\n",
       "      <td>-0.001685</td>\n",
       "      <td>-0.009390</td>\n",
       "      <td>1.000000</td>\n",
       "      <td>0.110330</td>\n",
       "      <td>0.012615</td>\n",
       "    </tr>\n",
       "    <tr>\n",
       "      <th>PÓS-DOUTORADO</th>\n",
       "      <td>-0.239698</td>\n",
       "      <td>0.021946</td>\n",
       "      <td>-0.307744</td>\n",
       "      <td>0.110330</td>\n",
       "      <td>1.000000</td>\n",
       "      <td>-0.214852</td>\n",
       "    </tr>\n",
       "    <tr>\n",
       "      <th>Total Linha</th>\n",
       "      <td>0.937057</td>\n",
       "      <td>-0.007002</td>\n",
       "      <td>0.894522</td>\n",
       "      <td>0.012615</td>\n",
       "      <td>-0.214852</td>\n",
       "      <td>1.000000</td>\n",
       "    </tr>\n",
       "  </tbody>\n",
       "</table>\n",
       "</div>"
      ],
      "text/plain": [
       "                       DOUTORADO PLENO  Iniciação Científica  MESTRADO  \\\n",
       "DOUTORADO PLENO               1.000000             -0.036757  0.696313   \n",
       "Iniciação Científica         -0.036757              1.000000 -0.053392   \n",
       "MESTRADO                      0.696313             -0.053392  1.000000   \n",
       "MESTRADO PROFISSIONAL        -0.007404             -0.001685 -0.009390   \n",
       "PÓS-DOUTORADO                -0.239698              0.021946 -0.307744   \n",
       "Total Linha                   0.937057             -0.007002  0.894522   \n",
       "\n",
       "                       MESTRADO PROFISSIONAL  PÓS-DOUTORADO  Total Linha  \n",
       "DOUTORADO PLENO                    -0.007404      -0.239698     0.937057  \n",
       "Iniciação Científica               -0.001685       0.021946    -0.007002  \n",
       "MESTRADO                           -0.009390      -0.307744     0.894522  \n",
       "MESTRADO PROFISSIONAL               1.000000       0.110330     0.012615  \n",
       "PÓS-DOUTORADO                       0.110330       1.000000    -0.214852  \n",
       "Total Linha                         0.012615      -0.214852     1.000000  "
      ]
     },
     "execution_count": 607,
     "metadata": {},
     "output_type": "execute_result"
    }
   ],
   "source": [
    "correlacao = data.drop(['Ano'], axis=1).corr() #verificando co-relação entre as variáveis\n",
    "correlacao"
   ]
  },
  {
   "cell_type": "code",
   "execution_count": 614,
   "id": "ecb7cedb",
   "metadata": {},
   "outputs": [
    {
     "data": {
      "text/plain": [
       "<AxesSubplot:>"
      ]
     },
     "execution_count": 614,
     "metadata": {},
     "output_type": "execute_result"
    },
    {
     "data": {
      "image/png": "[encoded data removed]",
      "text/plain": [
       "<Figure size 432x288 with 2 Axes>"
      ]
     },
     "metadata": {
      "needs_background": "light"
     },
     "output_type": "display_data"
    }
   ],
   "source": [
    "sns.heatmap(data.drop(['Ano'], axis=1).corr(), xticklabels=correlacao.columns, yticklabels=correlacao.columns, annot=True)"
   ]
  },
  {
   "cell_type": "code",
   "execution_count": null,
   "id": "34d3d2a5",
   "metadata": {},
   "outputs": [],
   "source": []
  }
 ],
 "metadata": {
  "kernelspec": {
   "display_name": "Python 3 (ipykernel)",
   "language": "python",
   "name": "python3"
  },
  "language_info": {
   "codemirror_mode": {
    "name": "ipython",
    "version": 3
   },
   "file_extension": ".py",
   "mimetype": "text/x-python",
   "name": "python",
   "nbconvert_exporter": "python",
   "pygments_lexer": "ipython3",
   "version": "3.9.7"
  }
 },
 "nbformat": 4,
 "nbformat_minor": 5
}
